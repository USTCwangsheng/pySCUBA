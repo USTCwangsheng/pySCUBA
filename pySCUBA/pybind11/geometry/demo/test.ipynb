{
 "cells": [
  {
   "cell_type": "code",
   "execution_count": 1,
   "metadata": {},
   "outputs": [],
   "source": [
    "import sys\n",
    "sys.path.append(\"./lib/\")\n",
    "from SCUBA import *"
   ]
  },
  {
   "cell_type": "code",
   "execution_count": 2,
   "metadata": {},
   "outputs": [],
   "source": [
    "protein=Protein(\"start.pdb\")"
   ]
  },
  {
   "cell_type": "code",
   "execution_count": 3,
   "metadata": {},
   "outputs": [
    {
     "name": "stdout",
     "output_type": "stream",
     "text": [
      "Important Parameters in SDRunPar key: AnnealingScheme not finished, Please finish\n",
      "1 dicts return ,Please finish!\n"
     ]
    }
   ],
   "source": [
    "dic=protein.setup_do_sd()"
   ]
  },
  {
   "cell_type": "code",
   "execution_count": 4,
   "metadata": {},
   "outputs": [],
   "source": [
    "dic[0][\"AnnealingScheme\"]=\"3 0.5 20000 8000 2000\""
   ]
  },
  {
   "cell_type": "code",
   "execution_count": 36,
   "metadata": {},
   "outputs": [
    {
     "name": "stdout",
     "output_type": "stream",
     "text": [
      "usage: program parameterfile nsteps\n",
      "Will run nsteps SD simulations for a system defined by the parameter file\n",
      "The simulated structure will be saved regularly to the outpdbfile during the simulation (overwritten mode)\n",
      "Temperature, total potential energy at regular intervals: \n",
      "rmsdswitchkey0\n",
      "betaswitchkey1\n",
      "rgrestraintswitchkey1\n",
      "num of restraints:20\n",
      "The following restraints will be applied: \n",
      " RMSD restraint with kres, rmsdmin and rmsdswitch = 500, 3 and 5\n",
      " Helix restraint with number of helix hbond distance restraints = 6\n",
      " Helix restraint with number of helix hbond distance restraints = 6\n",
      " Helix restraint with number of helix hbond distance restraints = 6\n",
      " Helix restraint with number of helix hbond distance restraints = 6\n",
      " Helix restraint with number of helix hbond distance restraints = 6\n",
      " Helix restraint with number of helix hbond distance restraints = 6\n",
      " Helix restraint with number of helix hbond distance restraints = 6\n",
      " Helix restraint with number of helix hbond distance restraints = 6\n",
      " Helix restraint with number of helix hbond distance restraints = 6\n",
      "Contact Restraint with kres and ncontact0 =50 and 3; groupdistance with gdmin,gdsmall and gdoff =5, 8, 20\n",
      "Atom group pairs for each potential contact: \n",
      "grp1: 19 26  grp2: 191\n",
      "grp1: 19 26  grp2: 198\n",
      "grp1: 19 26  grp2: 205\n",
      "Contact Restraint with kres and ncontact0 =50 and 3; groupdistance with gdmin,gdsmall and gdoff =5, 8, 20\n",
      "Atom group pairs for each potential contact: \n",
      "grp1: 191 198 205  grp2: 358\n",
      "grp1: 191 198 205  grp2: 365\n",
      "grp1: 191 198 205  grp2: 372\n",
      "Contact Restraint with kres and ncontact0 =50 and 3; groupdistance with gdmin,gdsmall and gdoff =5, 8, 20\n",
      "Atom group pairs for each potential contact: \n",
      "grp1: 358 365 372  grp2: 517\n",
      "grp1: 358 365 372  grp2: 524\n",
      "grp1: 358 365 372  grp2: 531\n",
      "Contact Restraint with kres and ncontact0 =50 and 3; groupdistance with gdmin,gdsmall and gdoff =5, 8, 20\n",
      "Atom group pairs for each potential contact: \n",
      "grp1: 517 524 531  grp2: 675\n",
      "grp1: 517 524 531  grp2: 682\n",
      "grp1: 517 524 531  grp2: 689\n",
      "Contact Restraint with kres and ncontact0 =50 and 3; groupdistance with gdmin,gdsmall and gdoff =5, 8, 20\n",
      "Atom group pairs for each potential contact: \n",
      "grp1: 675 682 689  grp2: 833\n",
      "grp1: 675 682 689  grp2: 840\n",
      "grp1: 675 682 689  grp2: 847\n",
      "Contact Restraint with kres and ncontact0 =50 and 3; groupdistance with gdmin,gdsmall and gdoff =5, 8, 20\n",
      "Atom group pairs for each potential contact: \n",
      "grp1: 833 840 847  grp2: 1003\n",
      "grp1: 833 840 847  grp2: 1010\n",
      "grp1: 833 840 847  grp2: 1017\n",
      "Contact Restraint with kres and ncontact0 =50 and 3; groupdistance with gdmin,gdsmall and gdoff =5, 8, 20\n",
      "Atom group pairs for each potential contact: \n",
      "grp1: 1003 1010 1017  grp2: 1173\n",
      "grp1: 1003 1010 1017  grp2: 1180\n",
      "grp1: 1003 1010 1017  grp2: 1187\n",
      "Contact Restraint with kres and ncontact0 =50 and 3; groupdistance with gdmin,gdsmall and gdoff =5, 8, 20\n",
      "Atom group pairs for each potential contact: \n",
      "grp1: 1173 1180 1187  grp2: 1362\n",
      "grp1: 1173 1180 1187  grp2: 1369\n",
      "grp1: 1173 1180 1187  grp2: 1376\n",
      "Contact Restraint with kres and ncontact0 =50 and 3; groupdistance with gdmin,gdsmall and gdoff =5, 8, 20\n",
      "Atom group pairs for each potential contact: \n",
      "grp1: 1362 1369 1376  grp2: 19\n",
      "grp1: 1362 1369 1376  grp2: 26\n",
      "grp1: 1362 1369 1376  grp2: 33\n",
      " Radius of gyration restraint with kres and rgbound = 300 and 8\n",
      "Step 0 Temperature= 1.00059  Pot_tot= 1066.64 Restraint_ene: RMSD:0  Helix:0  Helix:0  Helix:0  Helix:0  Helix:0  Helix:0  Helix:0  Helix:0  Helix:0  Contact:0  Contact:0  Contact:0  Contact:0  Contact:0  Contact:0  Contact:0  Contact:0  Contact:0  RG:0  \n",
      "Step 49 Temperature= 2.86465  Pot_tot= 1656.79 Restraint_ene: RMSD:0  Helix:0  Helix:0  Helix:0  Helix:0  Helix:0  Helix:0  Helix:0  Helix:0  Helix:0  Contact:0  Contact:0  Contact:0  Contact:0  Contact:0  Contact:0  Contact:0  Contact:0  Contact:0  RG:0  \n",
      "Step 99 Temperature= 2.68983  Pot_tot= 2451.46 Restraint_ene: RMSD:0  Helix:0  Helix:0  Helix:0  Helix:1.99693  Helix:0  Helix:0.476591  Helix:0.0133153  Helix:0  Helix:0.45653  Contact:0  Contact:0  Contact:0  Contact:0  Contact:0  Contact:0  Contact:0  Contact:0  Contact:0  RG:0  \n",
      "Step 149 Temperature= 2.7571  Pot_tot= 2758.54 Restraint_ene: RMSD:0  Helix:0  Helix:0  Helix:1.00674  Helix:1.64025  Helix:0  Helix:2.03642  Helix:0.363961  Helix:10.0951  Helix:0  Contact:0  Contact:0  Contact:0  Contact:0  Contact:0  Contact:0  Contact:0  Contact:0  Contact:0  RG:0  \n",
      "Step 199 Temperature= 2.68157  Pot_tot= 2843.33 Restraint_ene: RMSD:0  Helix:0.290236  Helix:0.00374184  Helix:0  Helix:2.35691  Helix:0.00456211  Helix:6.43615  Helix:0.00021327  Helix:18.9113  Helix:0.431496  Contact:0  Contact:0  Contact:0  Contact:0  Contact:0  Contact:0  Contact:0  Contact:0  Contact:0  RG:0  \n"
     ]
    }
   ],
   "source": [
    "protein.do_sd(200)"
   ]
  }
 ],
 "metadata": {
  "interpreter": {
   "hash": "e7370f93d1d0cde622a1f8e1c04877d8463912d04d973331ad4851f04de6915a"
  },
  "kernelspec": {
   "display_name": "Python 3.8.10 64-bit",
   "language": "python",
   "name": "python3"
  },
  "language_info": {
   "codemirror_mode": {
    "name": "ipython",
    "version": 3
   },
   "file_extension": ".py",
   "mimetype": "text/x-python",
   "name": "python",
   "nbconvert_exporter": "python",
   "pygments_lexer": "ipython3",
   "version": "3.8.13"
  },
  "orig_nbformat": 4
 },
 "nbformat": 4,
 "nbformat_minor": 2
}
