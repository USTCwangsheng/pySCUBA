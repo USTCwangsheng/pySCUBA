{
 "cells": [
  {
   "cell_type": "code",
   "execution_count": 12,
   "metadata": {},
   "outputs": [],
   "source": [
    "import sys\n",
    "sys.path.append(\"/home/yuhaihan/workspace/test_py_SCUBA/pySCUBA/pybind11/bin/\")\n",
    "from pb_geometry import *\n",
    "from pb_iblock import *\n",
    "from pb_dstl import *"
   ]
  },
  {
   "cell_type": "code",
   "execution_count": 13,
   "metadata": {},
   "outputs": [],
   "source": [
    "read_result=SketchPar.readparameters(\"sketch.par\")"
   ]
  },
  {
   "cell_type": "code",
   "execution_count": 14,
   "metadata": {},
   "outputs": [],
   "source": [
    "RandomEngine.reseed(read_result.randomseed)"
   ]
  },
  {
   "cell_type": "code",
   "execution_count": 15,
   "metadata": {},
   "outputs": [],
   "source": [
    "for i in range(read_result.Gennumber):\n",
    "    imol=USRIntrctMol()\n",
    "    modeler=MolModeler()\n",
    "    mainpar=SCUBASketchMainPAR()\n",
    "    mainpar.readss(read_result.SketchFile)\n",
    "    modeler.settarget(imol)\n",
    "    modeler.buildssele(mainpar.sseq,mainpar.sscrd,mainpar.sslen,read_result.linkloop,mainpar.finalss,mainpar.ss_info,mainpar.ssEH,mainpar.ssE,mainpar.ssH,mainpar.ssC,mainpar.direction)\n",
    "    imol.usrwritepdb(\"ouput_{}.pdb\".format(i))\n"
   ]
  },
  {
   "cell_type": "code",
   "execution_count": 19,
   "metadata": {},
   "outputs": [
    {
     "data": {
      "text/plain": [
       "1"
      ]
     },
     "execution_count": 19,
     "metadata": {},
     "output_type": "execute_result"
    }
   ],
   "source": [
    "read_result.linkloop"
   ]
  },
  {
   "cell_type": "markdown",
   "metadata": {},
   "source": []
  }
 ],
 "metadata": {
  "interpreter": {
   "hash": "46653df8cc7f524164e8eececee50fca50fb53c7615ccfe0df0c0e98ba0167f1"
  },
  "kernelspec": {
   "display_name": "Python 3.8.13 ('base')",
   "language": "python",
   "name": "python3"
  },
  "language_info": {
   "codemirror_mode": {
    "name": "ipython",
    "version": 3
   },
   "file_extension": ".py",
   "mimetype": "text/x-python",
   "name": "python",
   "nbconvert_exporter": "python",
   "pygments_lexer": "ipython3",
   "version": "3.8.13"
  },
  "orig_nbformat": 4
 },
 "nbformat": 4,
 "nbformat_minor": 2
}
